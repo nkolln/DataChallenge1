{
  "nbformat": 4,
  "nbformat_minor": 0,
  "metadata": {
    "colab": {
      "name": "CyberTruck_2.0.ipynb",
      "provenance": [],
      "collapsed_sections": [],
      "include_colab_link": true
    },
    "kernelspec": {
      "name": "python3",
      "display_name": "Python 3"
    },
    "accelerator": "GPU"
  },
  "cells": [
    {
      "cell_type": "markdown",
      "metadata": {
        "id": "view-in-github",
        "colab_type": "text"
      },
      "source": [
        "<a href=\"https://colab.research.google.com/github/nkolln/DataChallenge1/blob/master/CyberTruck_Final.ipynb\" target=\"_parent\"><img src=\"https://colab.research.google.com/assets/colab-badge.svg\" alt=\"Open In Colab\"/></a>"
      ]
    },
    {
      "cell_type": "code",
      "metadata": {
        "id": "XLbLXouF2R4w",
        "colab_type": "code",
        "outputId": "7773e891-f948-4f87-f7f7-ee81b6a23bc8",
        "colab": {
          "base_uri": "https://localhost:8080/",
          "height": 238
        }
      },
      "source": [
        "pip install git+git://github.com/fchollet/keras.git --upgrade --no-deps"
      ],
      "execution_count": 1,
      "outputs": [
        {
          "output_type": "stream",
          "text": [
            "Collecting git+git://github.com/fchollet/keras.git\n",
            "  Cloning git://github.com/fchollet/keras.git to /tmp/pip-req-build-y3awl2m8\n",
            "  Running command git clone -q git://github.com/fchollet/keras.git /tmp/pip-req-build-y3awl2m8\n",
            "Building wheels for collected packages: Keras\n",
            "  Building wheel for Keras (setup.py) ... \u001b[?25l\u001b[?25hdone\n",
            "  Created wheel for Keras: filename=Keras-2.3.1-cp36-none-any.whl size=365121 sha256=3e16511ce18935cc6fa7a069497cb539af9d755ab6a75ea9aa103b047c379c7b\n",
            "  Stored in directory: /tmp/pip-ephem-wheel-cache-ojrtwi9o/wheels/dc/a7/a2/8b2d0fd23dee9c609b4c95f2b5ed27997ed17ccbeabbebfc64\n",
            "Successfully built Keras\n",
            "Installing collected packages: Keras\n",
            "  Found existing installation: Keras 2.3.1\n",
            "    Uninstalling Keras-2.3.1:\n",
            "      Successfully uninstalled Keras-2.3.1\n",
            "Successfully installed Keras-2.3.1\n"
          ],
          "name": "stdout"
        }
      ]
    },
    {
      "cell_type": "markdown",
      "metadata": {
        "id": "qKLzpLdn43DX",
        "colab_type": "text"
      },
      "source": [
        "Importing all necessary libraries."
      ]
    },
    {
      "cell_type": "code",
      "metadata": {
        "id": "DFeECHJ52aod",
        "colab_type": "code",
        "outputId": "6476d569-d51f-4c6b-9bca-0bbeccc103a9",
        "colab": {
          "base_uri": "https://localhost:8080/",
          "height": 51
        }
      },
      "source": [
        "%tensorflow_version 1.x\n",
        "import itertools\n",
        "import multiprocessing.pool\n",
        "import threading\n",
        "from functools import partial\n",
        "from keras.models import load_model\n",
        "from keras.models import Model\n",
        "import keras\n",
        "import pandas as pd\n",
        "import matplotlib.pyplot as plt\n",
        "from keras import backend as K\n",
        "from keras.preprocessing.image import ImageDataGenerator\n",
        "from keras import layers, models\n",
        "from keras.layers import Dense, Dropout, Flatten\n",
        "from keras.layers import Conv2D, MaxPooling2D\n",
        "from keras.utils import np_utils\n",
        "from keras.backend import relu, sigmoid\n",
        "import numpy as np\n",
        "import time\n",
        "import argparse\n",
        "import glob\n",
        "import json\n",
        "import os\n",
        "import numpy as np\n",
        "from tensorflow.python.lib.io import file_io\n",
        "from skimage import exposure, color\n",
        "import tensorflow as tf\n",
        "from tensorflow.python.saved_model import builder as saved_model_builder\n",
        "from tensorflow.python.saved_model import utils\n",
        "from tensorflow.python.saved_model import tag_constants, signature_constants\n",
        "from tensorflow.python.saved_model.signature_def_utils_impl import build_signature_def, predict_signature_def\n",
        "from tensorflow.contrib.session_bundle import exporter\n",
        "import os\n",
        "%matplotlib\n",
        "from sklearn.metrics import confusion_matrix\n",
        "from sklearn.metrics import classification_report\n",
        "import itertools\n",
        "import matplotlib.pyplot as plt\n",
        "from matplotlib import pyplot as plt\n",
        "from numpy import loadtxt\n",
        "from keras.models import load_model"
      ],
      "execution_count": 2,
      "outputs": [
        {
          "output_type": "stream",
          "text": [
            "Using TensorFlow backend.\n"
          ],
          "name": "stderr"
        },
        {
          "output_type": "stream",
          "text": [
            "Using matplotlib backend: agg\n"
          ],
          "name": "stdout"
        }
      ]
    },
    {
      "cell_type": "markdown",
      "metadata": {
        "id": "QRmR7LO-5ENV",
        "colab_type": "text"
      },
      "source": [
        "#Setting up the model\n",
        "\n",
        "Creating a Sequential Model with Keras which has 3 convolutional layers, 2 max pooling layers in order to down sample input representations. Furthermore, relu activations is used to increase non-linearity in one of the dense layers. In the other dense layer, softmax is used as activation.\n",
        "\n",
        "Also, Adam learning rate optimizer is used with a small starting value of 0.01. \n",
        "\n",
        "As a loss-function categorical crossentropy is being used.\n"
      ]
    },
    {
      "cell_type": "code",
      "metadata": {
        "id": "IOhVJxn82f48",
        "colab_type": "code",
        "colab": {}
      },
      "source": [
        "def model_fn(labels_dim):\n",
        "    \"\"\"Create a Keras Sequential model with layers.\"\"\"\n",
        "\n",
        "    model = models.Sequential()\n",
        "    model.add(Conv2D(32, kernel_size=(3, 3),\n",
        "                     activation='relu',\n",
        "                     input_shape=(128, 128, 3)))\n",
        "    model.add(Conv2D(64, (3, 3), activation='relu', kernel_initializer='glorot_uniform'))\n",
        "    model.add(MaxPooling2D(pool_size=(2, 2)))\n",
        "    \n",
        "    model.add(Conv2D(64, (3, 3), activation='relu', kernel_initializer='glorot_uniform'))\n",
        "    model.add(MaxPooling2D(pool_size=(2, 2)))\n",
        "    model.add(Dropout(0.5))\n",
        "    model.add(Flatten())\n",
        "    model.add(Dense(128, activation='relu', kernel_initializer='glorot_uniform'))\n",
        "    model.add(Dropout(0.5))\n",
        "    model.add(Dense(labels_dim, activation='softmax', kernel_initializer='glorot_uniform'))\n",
        "\n",
        "    compile_model(model)\n",
        "    return model\n",
        "\n",
        "def compile_model(model):\n",
        "    opt =keras.optimizers.SGD(lr=0.01, momentum=0.99, decay = 0.01)\n",
        "    model.compile(loss=keras.losses.categorical_crossentropy,\n",
        "                  optimizer=opt,\n",
        "                  metrics=['accuracy'])\n",
        "    return model\n",
        "\n",
        "def read_train_data():\n",
        "    start_time = time.time()\n",
        "    print(\"Start Read Train Data\")\n",
        "    data = np.load(\"trainDataSmall.npz\")\n",
        "    #data = np.load(\"/content/drive/My Drive/Colab Notebooks/trainDataSmall.npz\")\n",
        "    print(\"Train data read --- %s seconds ---\" % (time.time() - start_time))\n",
        "    X_train = data[\"X_train\"]\n",
        "    Y_train = data[\"Y_train\"]\n",
        "    print(\"Training - Total examples per class\", np.sum(Y_train, axis=0))\n",
        "    return [X_train, Y_train]\n",
        "\n",
        "def read_test_data():\n",
        "    start_time = time.time()\n",
        "    print(\"Start Read Test Data\")\n",
        "    data = np.load(\"testDataSmall.npz\")\n",
        "    print(\"Test data read --- %s seconds ---\" % (time.time() - start_time))\n",
        "    X_test = data[\"X_test\"]\n",
        "    Y_test = data[\"Y_test\"]\n",
        "    print(\"Testing - Total examples per class\", np.sum(Y_test, axis=0))\n",
        "    return [X_test, Y_test]"
      ],
      "execution_count": 0,
      "outputs": []
    },
    {
      "cell_type": "markdown",
      "metadata": {
        "id": "A6hAy7Bo5hot",
        "colab_type": "text"
      },
      "source": [
        "Downloading the training and test data from the TU/e server."
      ]
    },
    {
      "cell_type": "code",
      "metadata": {
        "id": "uoAZpjGK2hoh",
        "colab_type": "code",
        "colab": {}
      },
      "source": [
        "![ -f testDataSmall.npz ] || wget -O testDataSmall.npz \"https://www.win.tue.nl/~cdecampos/testDataSmall.npz\"\n",
        "![ -f trainDataSmall.npz ] || wget -O trainDataSmall.npz \"https://www.win.tue.nl/~cdecampos/trainDataSmall.npz\""
      ],
      "execution_count": 0,
      "outputs": []
    },
    {
      "cell_type": "markdown",
      "metadata": {
        "id": "KES4PgY_AACM",
        "colab_type": "text"
      },
      "source": [
        "Implementing adaptive histogram equalization as a preprocessing tool in the continous evaluation class."
      ]
    },
    {
      "cell_type": "code",
      "metadata": {
        "id": "Bq5ehdH52ku2",
        "colab_type": "code",
        "outputId": "c539635d-af9e-419b-b3c2-2fa0a94a240f",
        "colab": {
          "base_uri": "https://localhost:8080/",
          "height": 68
        }
      },
      "source": [
        "def AHE(image):\n",
        "    image = exposure.equalize_adapthist(image, clip_limit=0.01)\n",
        "    \n",
        "                    \n",
        "datagen1 = ImageDataGenerator(\n",
        "        shear_range=0,\n",
        "        zoom_range=0,\n",
        "        horizontal_flip=True,\n",
        "        preprocessing_function=AHE\n",
        "        )\n",
        "\n",
        "class ContinuousEval(keras.callbacks.Callback):\n",
        "    \"\"\"Continuous eval callback to evaluate the checkpoint once\n",
        "       every so many epochs.\n",
        "    \"\"\"\n",
        "\n",
        "    def __init__(self,\n",
        "                 eval_frequency,\n",
        "                 job_dir):\n",
        "        self.eval_frequency = eval_frequency\n",
        "        self.job_dir = job_dir\n",
        "        [self.X_test, self.Y_test] = read_test_data()\n",
        "        datagen1.fit(self.X_test)\n",
        "\n",
        "    def on_epoch_begin(self, epoch, logs={}):\n",
        "        if epoch > 0 and epoch % self.eval_frequency == 0:\n",
        "            # Unhappy hack to work around h5py not being able to write to GCS.\n",
        "            # Force snapshots and saves to local filesystem, then copy them over to GCS.\n",
        "            model_path_glob = 'checkpoint.*'\n",
        "            model_path_glob = os.path.join(self.job_dir, model_path_glob)\n",
        "            checkpoints = glob.glob(model_path_glob)\n",
        "            if len(checkpoints) > 0:\n",
        "                checkpoints.sort()\n",
        "                retinopathy_model = load_model(checkpoints[-1])\n",
        "                retinopathy_model = compile_model(retinopathy_model)\n",
        "                loss, acc = retinopathy_model.evaluate(\n",
        "                    self.X_test, self.Y_test)\n",
        "                print('\\nEvaluation epoch[{}] metrics[{:.2f}, {:.2f}] {}'.format(\n",
        "                    epoch, loss, acc, retinopathy_model.metrics_names))\n",
        "            else:\n",
        "                print('\\nEvaluation epoch[{}] (no checkpoints found)'.format(epoch))\n",
        "                \n",
        "# Continuous eval callback\n",
        "evaluation = ContinuousEval(5, 'job_dir')\n",
        "validation=(evaluation.X_test, evaluation.Y_test)"
      ],
      "execution_count": 5,
      "outputs": [
        {
          "output_type": "stream",
          "text": [
            "Start Read Test Data\n",
            "Test data read --- 0.0012874603271484375 seconds ---\n",
            "Testing - Total examples per class [500. 500. 500. 500. 500.]\n"
          ],
          "name": "stdout"
        }
      ]
    },
    {
      "cell_type": "markdown",
      "metadata": {
        "id": "2gzGu1a1AP11",
        "colab_type": "text"
      },
      "source": [
        "# Training the model\n",
        "The model used # epochs and # batch size. Furthermore, some image augmentation techniques are implemented in the image-generator function. In the end, two plots are produced which show the accuracy and loss per epoch for the test and train data."
      ]
    },
    {
      "cell_type": "code",
      "metadata": {
        "id": "37q78Ghi2nNk",
        "colab_type": "code",
        "colab": {}
      },
      "source": [
        "\"\"\"This code implements a Feed forward neural network using Keras API.\"\"\"\n",
        "\n",
        "CLASS_SIZE = 5\n",
        "FILE_PATH = 'checkpoint.{epoch:02d}.hdf5'\n",
        "RETINOPATHY_MODEL = 'retinopathy.hdf5'\n",
        "\n",
        "def run():\n",
        "    tf.keras.backend.clear_session()\n",
        "    #local dir to write checkpoints and export model\n",
        "    job_dir = 'jobdir'\n",
        "    #Batch size for training steps\n",
        "    train_batch_size = 150\n",
        "    #Maximum number of epochs on which to train\n",
        "    num_epochs = 50\n",
        "    #Checkpoint per n training epochs\n",
        "    checkpoint_epochs = 5\n",
        "    #Perform one evaluation per n epochs\n",
        "    eval_frequency = 5\n",
        "\n",
        "    retinopathy_model = model_fn(CLASS_SIZE)\n",
        "\n",
        "    try:\n",
        "        os.makedirs(job_dir)\n",
        "    except:\n",
        "        pass\n",
        "\n",
        "    # Unhappy hack to work around h5py not being able to write to GCS.\n",
        "    # Force snapshots and saves to local filesystem, then copy them over to GCS.\n",
        "    checkpoint_path = FILE_PATH\n",
        "    checkpoint_path = os.path.join(job_dir, checkpoint_path)\n",
        "\n",
        "    # Model checkpoint callback\n",
        "    checkpoint = keras.callbacks.ModelCheckpoint(\n",
        "        checkpoint_path,\n",
        "        monitor='val_loss',\n",
        "        verbose=2,\n",
        "        period=checkpoint_epochs,\n",
        "        mode='max')\n",
        "\n",
        "    # Tensorboard logs callback\n",
        "    tblog = keras.callbacks.TensorBoard(\n",
        "        log_dir=os.path.join(job_dir, 'logs'),\n",
        "        histogram_freq=0,\n",
        "        write_graph=True,\n",
        "        embeddings_freq=0)\n",
        "\n",
        "    callbacks = [checkpoint, evaluation, tblog]\n",
        "\n",
        "    [X_train, Y_train] = read_train_data()\n",
        "    datagen1.fit(X_train)\n",
        "    \n",
        "    datagen = ImageDataGenerator(\n",
        "        shear_range=0,\n",
        "        zoom_range=0,\n",
        "        horizontal_flip=True)\n",
        "    \n",
        "    history = retinopathy_model.fit_generator(\n",
        "        datagen.flow(X_train, Y_train, batch_size=train_batch_size),\n",
        "        steps_per_epoch=100,\n",
        "        epochs=num_epochs,\n",
        "        callbacks=callbacks,\n",
        "        verbose=2,\n",
        "        validation_data=validation)\n",
        "\n",
        "    retinopathy_model.save(os.path.join(job_dir, RETINOPATHY_MODEL))\n",
        "    retinopathy_model.summary()\n",
        "    \n",
        "    # Creating a plot for loss and accuracy for both training and validation set.\n",
        "    # summarize history for accuracy\n",
        "    plt.plot(history.history['accuracy'], 'bo')\n",
        "    plt.plot(history.history['val_accuracy'], 'b')\n",
        "    plt.title('Training and validation accuracy')\n",
        "    plt.ylabel('accuracy')\n",
        "    plt.xlabel('epoch')\n",
        "    plt.legend(['train_acc', 'test_acc'], loc='upper left')\n",
        "    plt.show()\n",
        "    # summarize history for loss\n",
        "    plt.plot(history.history['loss'], 'bo')\n",
        "    plt.plot(history.history['val_loss'], 'b')\n",
        "    plt.title('Training and Validation loss')\n",
        "    plt.ylabel('loss')\n",
        "    plt.xlabel('epoch')\n",
        "    plt.legend(['train_loss', 'test_loss'], loc='upper left')\n",
        "    plt.show()"
      ],
      "execution_count": 0,
      "outputs": []
    },
    {
      "cell_type": "code",
      "metadata": {
        "id": "lGK3Gua32rgp",
        "colab_type": "code",
        "outputId": "36de9e64-56a4-402f-c303-56a6604d1258",
        "colab": {
          "base_uri": "https://localhost:8080/",
          "height": 1000
        }
      },
      "source": [
        "!rm -fr jobdir/\n",
        "run()"
      ],
      "execution_count": 7,
      "outputs": [
        {
          "output_type": "stream",
          "text": [
            "WARNING:tensorflow:From /usr/local/lib/python3.6/dist-packages/tensorflow_core/python/ops/resource_variable_ops.py:1630: calling BaseResourceVariable.__init__ (from tensorflow.python.ops.resource_variable_ops) with constraint is deprecated and will be removed in a future version.\n",
            "Instructions for updating:\n",
            "If using Keras pass *_constraint arguments to layers.\n",
            "WARNING:tensorflow:From /usr/local/lib/python3.6/dist-packages/keras/backend/tensorflow_backend.py:4070: The name tf.nn.max_pool is deprecated. Please use tf.nn.max_pool2d instead.\n",
            "\n",
            "Start Read Train Data\n",
            "Train data read --- 0.0005464553833007812 seconds ---\n",
            "Training - Total examples per class [1000. 1000. 1000. 1000. 1000.]\n",
            "WARNING:tensorflow:From /usr/local/lib/python3.6/dist-packages/keras/backend/tensorflow_backend.py:422: The name tf.global_variables is deprecated. Please use tf.compat.v1.global_variables instead.\n",
            "\n",
            "WARNING:tensorflow:From /usr/local/lib/python3.6/dist-packages/keras/callbacks/tensorboard_v1.py:200: The name tf.summary.merge_all is deprecated. Please use tf.compat.v1.summary.merge_all instead.\n",
            "\n",
            "WARNING:tensorflow:From /usr/local/lib/python3.6/dist-packages/keras/callbacks/tensorboard_v1.py:203: The name tf.summary.FileWriter is deprecated. Please use tf.compat.v1.summary.FileWriter instead.\n",
            "\n",
            "Epoch 1/50\n",
            " - 24s - loss: 1.6089 - accuracy: 0.2094 - val_loss: 1.6006 - val_accuracy: 0.2812\n",
            "WARNING:tensorflow:From /usr/local/lib/python3.6/dist-packages/keras/callbacks/tensorboard_v1.py:343: The name tf.Summary is deprecated. Please use tf.compat.v1.Summary instead.\n",
            "\n",
            "Epoch 2/50\n",
            " - 18s - loss: 1.5919 - accuracy: 0.2547 - val_loss: 1.5459 - val_accuracy: 0.3020\n",
            "Epoch 3/50\n",
            " - 18s - loss: 1.5445 - accuracy: 0.2876 - val_loss: 1.4573 - val_accuracy: 0.3328\n",
            "Epoch 4/50\n",
            " - 18s - loss: 1.5200 - accuracy: 0.2951 - val_loss: 1.4359 - val_accuracy: 0.3364\n",
            "Epoch 5/50\n",
            " - 18s - loss: 1.4943 - accuracy: 0.3093 - val_loss: 1.4168 - val_accuracy: 0.3524\n",
            "\n",
            "Epoch 00005: saving model to jobdir/checkpoint.05.hdf5\n",
            "Epoch 6/50\n",
            "\n",
            "Evaluation epoch[5] (no checkpoints found)\n",
            " - 18s - loss: 1.4806 - accuracy: 0.3175 - val_loss: 1.3946 - val_accuracy: 0.3536\n",
            "Epoch 7/50\n",
            " - 18s - loss: 1.4642 - accuracy: 0.3230 - val_loss: 1.3851 - val_accuracy: 0.3572\n",
            "Epoch 8/50\n",
            " - 18s - loss: 1.4518 - accuracy: 0.3276 - val_loss: 1.3828 - val_accuracy: 0.3624\n",
            "Epoch 9/50\n",
            " - 18s - loss: 1.4438 - accuracy: 0.3399 - val_loss: 1.3626 - val_accuracy: 0.3732\n",
            "Epoch 10/50\n",
            " - 18s - loss: 1.4329 - accuracy: 0.3480 - val_loss: 1.3542 - val_accuracy: 0.3784\n",
            "\n",
            "Epoch 00010: saving model to jobdir/checkpoint.10.hdf5\n",
            "Epoch 11/50\n",
            "\n",
            "Evaluation epoch[10] (no checkpoints found)\n",
            " - 18s - loss: 1.4236 - accuracy: 0.3536 - val_loss: 1.3504 - val_accuracy: 0.3648\n",
            "Epoch 12/50\n",
            " - 18s - loss: 1.4191 - accuracy: 0.3491 - val_loss: 1.3466 - val_accuracy: 0.3800\n",
            "Epoch 13/50\n",
            " - 18s - loss: 1.4025 - accuracy: 0.3668 - val_loss: 1.3409 - val_accuracy: 0.3860\n",
            "Epoch 14/50\n",
            " - 18s - loss: 1.4039 - accuracy: 0.3669 - val_loss: 1.3282 - val_accuracy: 0.3936\n",
            "Epoch 15/50\n",
            " - 18s - loss: 1.3956 - accuracy: 0.3679 - val_loss: 1.3325 - val_accuracy: 0.3900\n",
            "\n",
            "Epoch 00015: saving model to jobdir/checkpoint.15.hdf5\n",
            "Epoch 16/50\n",
            "\n",
            "Evaluation epoch[15] (no checkpoints found)\n",
            " - 18s - loss: 1.3862 - accuracy: 0.3760 - val_loss: 1.3352 - val_accuracy: 0.3948\n",
            "Epoch 17/50\n",
            " - 18s - loss: 1.3730 - accuracy: 0.3905 - val_loss: 1.3192 - val_accuracy: 0.3940\n",
            "Epoch 18/50\n",
            " - 18s - loss: 1.3569 - accuracy: 0.3970 - val_loss: 1.3277 - val_accuracy: 0.3916\n",
            "Epoch 19/50\n",
            " - 18s - loss: 1.3515 - accuracy: 0.3987 - val_loss: 1.3216 - val_accuracy: 0.4004\n",
            "Epoch 20/50\n",
            " - 18s - loss: 1.3416 - accuracy: 0.4025 - val_loss: 1.3195 - val_accuracy: 0.4068\n",
            "\n",
            "Epoch 00020: saving model to jobdir/checkpoint.20.hdf5\n",
            "Epoch 21/50\n",
            "\n",
            "Evaluation epoch[20] (no checkpoints found)\n",
            " - 18s - loss: 1.3370 - accuracy: 0.4129 - val_loss: 1.3188 - val_accuracy: 0.3956\n",
            "Epoch 22/50\n",
            " - 18s - loss: 1.3192 - accuracy: 0.4183 - val_loss: 1.3202 - val_accuracy: 0.3996\n",
            "Epoch 23/50\n",
            " - 18s - loss: 1.3146 - accuracy: 0.4190 - val_loss: 1.3073 - val_accuracy: 0.4092\n",
            "Epoch 24/50\n",
            " - 18s - loss: 1.3053 - accuracy: 0.4232 - val_loss: 1.3105 - val_accuracy: 0.3996\n",
            "Epoch 25/50\n",
            " - 18s - loss: 1.2945 - accuracy: 0.4275 - val_loss: 1.3079 - val_accuracy: 0.4156\n",
            "\n",
            "Epoch 00025: saving model to jobdir/checkpoint.25.hdf5\n",
            "Epoch 26/50\n",
            "\n",
            "Evaluation epoch[25] (no checkpoints found)\n",
            " - 18s - loss: 1.2806 - accuracy: 0.4428 - val_loss: 1.3103 - val_accuracy: 0.4060\n",
            "Epoch 27/50\n",
            " - 18s - loss: 1.2811 - accuracy: 0.4371 - val_loss: 1.3138 - val_accuracy: 0.3920\n",
            "Epoch 28/50\n",
            " - 18s - loss: 1.2723 - accuracy: 0.4407 - val_loss: 1.3257 - val_accuracy: 0.3964\n",
            "Epoch 29/50\n",
            " - 18s - loss: 1.2528 - accuracy: 0.4563 - val_loss: 1.3064 - val_accuracy: 0.4120\n",
            "Epoch 30/50\n",
            " - 18s - loss: 1.2406 - accuracy: 0.4616 - val_loss: 1.3025 - val_accuracy: 0.4164\n",
            "\n",
            "Epoch 00030: saving model to jobdir/checkpoint.30.hdf5\n",
            "Epoch 31/50\n",
            "\n",
            "Evaluation epoch[30] (no checkpoints found)\n",
            " - 18s - loss: 1.2325 - accuracy: 0.4637 - val_loss: 1.3160 - val_accuracy: 0.4056\n",
            "Epoch 32/50\n",
            " - 18s - loss: 1.2163 - accuracy: 0.4717 - val_loss: 1.3130 - val_accuracy: 0.4168\n",
            "Epoch 33/50\n",
            " - 18s - loss: 1.2008 - accuracy: 0.4870 - val_loss: 1.3062 - val_accuracy: 0.4076\n",
            "Epoch 34/50\n",
            " - 18s - loss: 1.1959 - accuracy: 0.4831 - val_loss: 1.3127 - val_accuracy: 0.4192\n",
            "Epoch 35/50\n",
            " - 18s - loss: 1.1826 - accuracy: 0.4955 - val_loss: 1.3200 - val_accuracy: 0.4160\n",
            "\n",
            "Epoch 00035: saving model to jobdir/checkpoint.35.hdf5\n",
            "Epoch 36/50\n",
            "\n",
            "Evaluation epoch[35] (no checkpoints found)\n",
            " - 18s - loss: 1.1575 - accuracy: 0.5080 - val_loss: 1.3238 - val_accuracy: 0.4132\n",
            "Epoch 37/50\n",
            " - 18s - loss: 1.1580 - accuracy: 0.5033 - val_loss: 1.3074 - val_accuracy: 0.4192\n",
            "Epoch 38/50\n",
            " - 18s - loss: 1.1396 - accuracy: 0.5137 - val_loss: 1.3341 - val_accuracy: 0.4132\n",
            "Epoch 39/50\n",
            " - 18s - loss: 1.1231 - accuracy: 0.5178 - val_loss: 1.3179 - val_accuracy: 0.4176\n",
            "Epoch 40/50\n",
            " - 18s - loss: 1.1118 - accuracy: 0.5314 - val_loss: 1.3221 - val_accuracy: 0.4112\n",
            "\n",
            "Epoch 00040: saving model to jobdir/checkpoint.40.hdf5\n",
            "Epoch 41/50\n",
            "\n",
            "Evaluation epoch[40] (no checkpoints found)\n",
            " - 18s - loss: 1.1069 - accuracy: 0.5303 - val_loss: 1.3452 - val_accuracy: 0.4064\n",
            "Epoch 42/50\n",
            " - 18s - loss: 1.0977 - accuracy: 0.5333 - val_loss: 1.3356 - val_accuracy: 0.4036\n",
            "Epoch 43/50\n",
            " - 18s - loss: 1.0806 - accuracy: 0.5442 - val_loss: 1.3451 - val_accuracy: 0.4064\n",
            "Epoch 44/50\n",
            " - 18s - loss: 1.0696 - accuracy: 0.5468 - val_loss: 1.3453 - val_accuracy: 0.4048\n",
            "Epoch 45/50\n",
            " - 18s - loss: 1.0559 - accuracy: 0.5493 - val_loss: 1.3338 - val_accuracy: 0.4236\n",
            "\n",
            "Epoch 00045: saving model to jobdir/checkpoint.45.hdf5\n",
            "Epoch 46/50\n",
            "\n",
            "Evaluation epoch[45] (no checkpoints found)\n",
            " - 18s - loss: 1.0465 - accuracy: 0.5540 - val_loss: 1.3296 - val_accuracy: 0.4228\n",
            "Epoch 47/50\n",
            " - 18s - loss: 1.0355 - accuracy: 0.5660 - val_loss: 1.3463 - val_accuracy: 0.4304\n",
            "Epoch 48/50\n",
            " - 18s - loss: 1.0105 - accuracy: 0.5766 - val_loss: 1.3621 - val_accuracy: 0.4180\n",
            "Epoch 49/50\n",
            " - 18s - loss: 0.9894 - accuracy: 0.5846 - val_loss: 1.3676 - val_accuracy: 0.4392\n",
            "Epoch 50/50\n",
            " - 18s - loss: 0.9799 - accuracy: 0.5876 - val_loss: 1.3630 - val_accuracy: 0.4300\n",
            "\n",
            "Epoch 00050: saving model to jobdir/checkpoint.50.hdf5\n",
            "Model: \"sequential_1\"\n",
            "_________________________________________________________________\n",
            "Layer (type)                 Output Shape              Param #   \n",
            "=================================================================\n",
            "conv2d_1 (Conv2D)            (None, 126, 126, 32)      896       \n",
            "_________________________________________________________________\n",
            "conv2d_2 (Conv2D)            (None, 124, 124, 64)      18496     \n",
            "_________________________________________________________________\n",
            "max_pooling2d_1 (MaxPooling2 (None, 62, 62, 64)        0         \n",
            "_________________________________________________________________\n",
            "conv2d_3 (Conv2D)            (None, 60, 60, 64)        36928     \n",
            "_________________________________________________________________\n",
            "max_pooling2d_2 (MaxPooling2 (None, 30, 30, 64)        0         \n",
            "_________________________________________________________________\n",
            "dropout_1 (Dropout)          (None, 30, 30, 64)        0         \n",
            "_________________________________________________________________\n",
            "flatten_1 (Flatten)          (None, 57600)             0         \n",
            "_________________________________________________________________\n",
            "dense_1 (Dense)              (None, 128)               7372928   \n",
            "_________________________________________________________________\n",
            "dropout_2 (Dropout)          (None, 128)               0         \n",
            "_________________________________________________________________\n",
            "dense_2 (Dense)              (None, 5)                 645       \n",
            "=================================================================\n",
            "Total params: 7,429,893\n",
            "Trainable params: 7,429,893\n",
            "Non-trainable params: 0\n",
            "_________________________________________________________________\n"
          ],
          "name": "stdout"
        }
      ]
    },
    {
      "cell_type": "markdown",
      "metadata": {
        "id": "AXcExKeHA5XT",
        "colab_type": "text"
      },
      "source": [
        "# Additional metrics\n",
        "In the cells below, some further metrics and diagnostics are implemented. Such are confusion matrix, f-1 statistics and a model prediction tool."
      ]
    },
    {
      "cell_type": "code",
      "metadata": {
        "id": "gWJYzMmf3TjA",
        "colab_type": "code",
        "colab": {}
      },
      "source": [
        "model = load_model('jobdir/retinopathy.hdf5')\n",
        "\n",
        "data = np.load(\"testDataSmall.npz\")\n",
        "X_test = data[\"X_test\"]\n",
        "Y_test = data[\"Y_test\"]\n",
        "\n",
        "yProbTest = model.predict_proba(X_test)\n",
        "yClassTest = model.predict_classes(X_test)"
      ],
      "execution_count": 0,
      "outputs": []
    },
    {
      "cell_type": "code",
      "metadata": {
        "id": "bMavLkOJ9GY4",
        "colab_type": "code",
        "colab": {
          "base_uri": "https://localhost:8080/",
          "height": 51
        },
        "outputId": "facccbaa-1aa7-4ce7-cf2b-b1dcb80751aa"
      },
      "source": [
        "def convert_act(yInput):\n",
        "  if(yInput == [1, 0, 0, 0, 0]).all():\n",
        "    return 0\n",
        "  elif(yInput == [0, 1, 0, 0, 0]).all():\n",
        "    return 1\n",
        "  elif(yInput == [0, 0, 1, 0, 0]).all():\n",
        "    return 2\n",
        "  elif(yInput == [0, 0, 0, 1, 0]).all():\n",
        "    return 3\n",
        "  elif(yInput == [0, 0, 0, 0, 1]).all():\n",
        "    return 4\n",
        "\n",
        "val = input(\"Enter number of the test case: \") \n",
        "\n",
        "imgToShow = tf.keras.preprocessing.image.array_to_img(\n",
        "    X_test[int(val)],\n",
        "    data_format=None,\n",
        "    scale=True,\n",
        "    dtype=None\n",
        ")\n",
        "\n",
        "fig = plt.figure(figsize=(6,6))\n",
        "ax1 = plt.subplot2grid((15,9), (0,0), colspan=9, rowspan=9)\n",
        "ax2 = plt.subplot2grid((15,9), (9,2), colspan=5, rowspan=5)\n",
        "\n",
        "ax1.axis('off')\n",
        "ax1.set_title(\"X_test[%s]\" % (val))\n",
        "ax1.imshow(imgToShow)\n",
        "    \n",
        "y_pos = np.arange(5)\n",
        "ax2.set_yticks(y_pos)\n",
        "ax2.set_yticklabels([0,1,2,3,4])\n",
        "ax2.set_xlabel('Probability')\n",
        "ax2.invert_yaxis()\n",
        "ax2.barh(y_pos, yProbTest[int(val)], xerr=0, align='center', color='green')\n",
        "\n",
        "print(\"Predicted Class = %s, Actuall Class = %s\" % (yClassTest[int(val)], convert_act(Y_test[int(val)])))\n",
        "plt.show()"
      ],
      "execution_count": 9,
      "outputs": [
        {
          "output_type": "stream",
          "text": [
            "Enter number of the test case: 5\n",
            "Predicted Class = 3, Actuall Class = 0\n"
          ],
          "name": "stdout"
        }
      ]
    },
    {
      "cell_type": "code",
      "metadata": {
        "id": "1vOmpYge9MOR",
        "colab_type": "code",
        "colab": {}
      },
      "source": [
        "new_Y_test = []\n",
        "\n",
        "for x in range(len(Y_test)):\n",
        "  new_Y_test.append(convert_act(Y_test[x]))"
      ],
      "execution_count": 0,
      "outputs": []
    },
    {
      "cell_type": "code",
      "metadata": {
        "id": "g40ajA379S0U",
        "colab_type": "code",
        "colab": {}
      },
      "source": [
        "cm = confusion_matrix(new_Y_test, yClassTest)"
      ],
      "execution_count": 0,
      "outputs": []
    },
    {
      "cell_type": "code",
      "metadata": {
        "id": "AYHiSgzw9YAo",
        "colab_type": "code",
        "colab": {}
      },
      "source": [
        "def plot_confusion_matrix(cm, classes,\n",
        "                          normalize=False,\n",
        "                          title='Confusion matrix',\n",
        "                          cmap=plt.cm.Blues):\n",
        "    \"\"\"\n",
        "    This function prints and plots the confusion matrix.\n",
        "    Normalization can be applied by setting `normalize=True`.\n",
        "    \"\"\"\n",
        "    plt.imshow(cm, interpolation='nearest', cmap=cmap)\n",
        "    plt.title(title)\n",
        "    plt.colorbar()\n",
        "    tick_marks = np.arange(len(classes))\n",
        "    plt.xticks(tick_marks, classes, rotation=45)\n",
        "    plt.yticks(tick_marks, classes)\n",
        "\n",
        "    if normalize:\n",
        "        cm = cm.astype('float') / cm.sum(axis=1)[:, np.newaxis]\n",
        "        print(\"Normalized confusion matrix\")\n",
        "    else:\n",
        "        print('Confusion matrix, without normalization')\n",
        "\n",
        "    #print(cm)\n",
        "\n",
        "    thresh = cm.max() / 2.\n",
        "    for i, j in itertools.product(range(cm.shape[0]), range(cm.shape[1])):\n",
        "        plt.text(j, i, cm[i, j],\n",
        "                 horizontalalignment=\"center\",\n",
        "                 color=\"white\" if cm[i, j] > thresh else \"black\")\n",
        "\n",
        "    plt.tight_layout()\n",
        "    plt.ylabel('True label')\n",
        "    plt.xlabel('Predicted label')"
      ],
      "execution_count": 0,
      "outputs": []
    },
    {
      "cell_type": "code",
      "metadata": {
        "id": "W8lBqcDx9ZK5",
        "colab_type": "code",
        "colab": {
          "base_uri": "https://localhost:8080/",
          "height": 51
        },
        "outputId": "2e33b9ba-8a3a-441a-ba51-52a792f256e5"
      },
      "source": [
        "cm_plot_labels = [0, 1, 2, 3, 4]\n",
        "plot_confusion_matrix(cm, cm_plot_labels, title='Confusion Matrix')"
      ],
      "execution_count": 13,
      "outputs": [
        {
          "output_type": "stream",
          "text": [
            "Confusion matrix, without normalization\n"
          ],
          "name": "stdout"
        },
        {
          "output_type": "stream",
          "text": [
            "/usr/local/lib/python3.6/dist-packages/ipykernel_launcher.py:30: UserWarning: Tight layout not applied. tight_layout cannot make axes height small enough to accommodate all axes decorations\n"
          ],
          "name": "stderr"
        }
      ]
    },
    {
      "cell_type": "code",
      "metadata": {
        "id": "n1cbg0sz9bsP",
        "colab_type": "code",
        "colab": {
          "base_uri": "https://localhost:8080/",
          "height": 221
        },
        "outputId": "f5899838-25c0-4ff4-fc49-72965fd3ab71"
      },
      "source": [
        "print(classification_report(new_Y_test, yClassTest))"
      ],
      "execution_count": 14,
      "outputs": [
        {
          "output_type": "stream",
          "text": [
            "              precision    recall  f1-score   support\n",
            "\n",
            "           0       0.38      0.43      0.40       500\n",
            "           1       0.39      0.36      0.38       500\n",
            "           2       0.33      0.30      0.32       500\n",
            "           3       0.46      0.45      0.46       500\n",
            "           4       0.57      0.61      0.59       500\n",
            "\n",
            "    accuracy                           0.43      2500\n",
            "   macro avg       0.43      0.43      0.43      2500\n",
            "weighted avg       0.43      0.43      0.43      2500\n",
            "\n"
          ],
          "name": "stdout"
        }
      ]
    }
  ]
}