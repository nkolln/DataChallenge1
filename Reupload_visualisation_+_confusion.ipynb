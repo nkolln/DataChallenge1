{
  "nbformat": 4,
  "nbformat_minor": 0,
  "metadata": {
    "colab": {
      "name": "Reupload visualisation + confusion",
      "provenance": [],
      "collapsed_sections": [],
      "include_colab_link": true
    },
    "kernelspec": {
      "name": "python3",
      "display_name": "Python 3"
    },
    "accelerator": "GPU"
  },
  "cells": [
    {
      "cell_type": "markdown",
      "metadata": {
        "id": "view-in-github",
        "colab_type": "text"
      },
      "source": [
        "<a href=\"https://colab.research.google.com/github/nkolln/DataChallenge1/blob/master/Reupload_visualisation_%2B_confusion.ipynb\" target=\"_parent\"><img src=\"https://colab.research.google.com/assets/colab-badge.svg\" alt=\"Open In Colab\"/></a>"
      ]
    },
    {
      "cell_type": "code",
      "metadata": {
        "id": "OBnRS5K-JfWv",
        "colab_type": "code",
        "outputId": "8ff0df01-2cc7-42fa-86a2-cf6fa353b41d",
        "colab": {
          "base_uri": "https://localhost:8080/",
          "height": 34
        }
      },
      "source": [
        "%tensorflow_version 1.x\n",
        "import itertools\n",
        "import multiprocessing.pool\n",
        "import threading\n",
        "from functools import partial\n",
        "\n",
        "import keras\n",
        "import pandas as pd\n",
        "from keras import backend as K\n",
        "from keras import layers, models\n",
        "from keras.layers import Dense, Dropout, Flatten\n",
        "from keras.layers import Conv2D, MaxPooling2D\n",
        "from keras.utils import np_utils\n",
        "from keras.backend import relu, sigmoid\n",
        "import numpy as np\n",
        "import time\n",
        "\n",
        "import tensorflow as tf\n",
        "from tensorflow.python.saved_model import builder as saved_model_builder\n",
        "from tensorflow.python.saved_model import utils\n",
        "from tensorflow.python.saved_model import tag_constants, signature_constants\n",
        "from tensorflow.python.saved_model.signature_def_utils_impl import build_signature_def, predict_signature_def\n",
        "from tensorflow.contrib.session_bundle import exporter\n",
        "import os\n",
        "\n",
        "\n",
        "def model_fn(labels_dim):\n",
        "    \"\"\"Create a Keras Sequential model with layers.\"\"\"\n",
        "\n",
        "    model = models.Sequential()\n",
        "    model.add(Conv2D(32, kernel_size=(3, 3),\n",
        "                     activation='relu',\n",
        "                     input_shape=(128, 128, 3)))\n",
        "    model.add(Dropout(0.25))\n",
        "    model.add(Conv2D(64, (3, 3), activation='relu', kernel_initializer='glorot_uniform'))\n",
        "    model.add(MaxPooling2D(pool_size=(2, 2)))\n",
        "    model.add(Dropout(0.25))\n",
        "    model.add(Flatten())\n",
        "    model.add(Dense(128, activation='relu', kernel_initializer='glorot_uniform'))\n",
        "    model.add(Dropout(0.5))\n",
        "    model.add(Dense(labels_dim, activation='softmax', kernel_initializer='glorot_uniform'))\n",
        "\n",
        "    compile_model(model)\n",
        "    return model\n",
        "\n",
        "\n",
        "def compile_model(model):\n",
        "    opt = keras.optimizers.Adagrad(lr=0.01)\n",
        "    model.compile(loss=keras.losses.categorical_crossentropy,\n",
        "                  optimizer=opt,\n",
        "                  metrics=['accuracy'])\n",
        "    return model\n",
        "\n",
        "def read_train_data():\n",
        "    start_time = time.time()\n",
        "    print(\"Start Read Train Data\")\n",
        "    data = np.load(\"trainDataSmall.npz\")\n",
        "    #data = np.load(\"/content/drive/My Drive/Colab Notebooks/trainDataSmall.npz\")\n",
        "    print(\"Train data read --- %s seconds ---\" % (time.time() - start_time))\n",
        "    X_train = data[\"X_train\"]\n",
        "    Y_train = data[\"Y_train\"]\n",
        "    print(\"Training - Total examples per class\", np.sum(Y_train, axis=0))\n",
        "    return [X_train, Y_train]\n",
        "\n",
        "\n",
        "def read_test_data():\n",
        "    start_time = time.time()\n",
        "    print(\"Start Read Test Data\")\n",
        "    data = np.load(\"testDataSmall.npz\")\n",
        "    #data = np.load(\"/content/drive/My Drive/Colab Notebooks/testDataSmall.npz\")\n",
        "    print(\"Test data read --- %s seconds ---\" % (time.time() - start_time))\n",
        "    X_test = data[\"X_test\"]\n",
        "    Y_test = data[\"Y_test\"]\n",
        "    print(\"Testing - Total examples per class\", np.sum(Y_test, axis=0))\n",
        "    return [X_test, Y_test]\n"
      ],
      "execution_count": 1,
      "outputs": [
        {
          "output_type": "stream",
          "text": [
            "Using TensorFlow backend.\n"
          ],
          "name": "stderr"
        }
      ]
    },
    {
      "cell_type": "code",
      "metadata": {
        "id": "WSuYY-albXsP",
        "colab_type": "code",
        "colab": {}
      },
      "source": [
        "\"\"\"This code implements a Feed forward neural network using Keras API.\"\"\"\n",
        "\n",
        "%tensorflow_version 1.x\n",
        "import argparse\n",
        "import glob\n",
        "import json\n",
        "import os\n",
        "import numpy as np\n",
        "\n",
        "import keras\n",
        "import tensorflow as tf\n",
        "from keras.models import load_model\n",
        "from tensorflow.python.lib.io import file_io\n",
        "from keras.preprocessing.image import ImageDataGenerator\n",
        "\n",
        "CLASS_SIZE = 5\n",
        "FILE_PATH = 'checkpoint.{epoch:02d}.hdf5'\n",
        "RETINOPATHY_MODEL = 'retinopathy.hdf5'\n",
        "\n",
        "class ContinuousEval(keras.callbacks.Callback):\n",
        "    \"\"\"Continuous eval callback to evaluate the checkpoint once\n",
        "       every so many epochs.\n",
        "    \"\"\"\n",
        "\n",
        "    def __init__(self,\n",
        "                 eval_frequency,\n",
        "                 job_dir):\n",
        "        self.eval_frequency = eval_frequency\n",
        "        self.job_dir = job_dir\n",
        "        [self.X_test, self.Y_test] = read_test_data()\n",
        "\n",
        "    def on_epoch_begin(self, epoch, logs={}):\n",
        "        if epoch > 0 and epoch % self.eval_frequency == 0:\n",
        "            # Unhappy hack to work around h5py not being able to write to GCS.\n",
        "            # Force snapshots and saves to local filesystem, then copy them over to GCS.\n",
        "            model_path_glob = 'checkpoint.*'\n",
        "            model_path_glob = os.path.join(self.job_dir, model_path_glob)\n",
        "            checkpoints = glob.glob(model_path_glob)\n",
        "            if len(checkpoints) > 0:\n",
        "                checkpoints.sort()\n",
        "                retinopathy_model = load_model(checkpoints[-1])\n",
        "                retinopathy_model = compile_model(retinopathy_model)\n",
        "                loss, acc = retinopathy_model.evaluate(\n",
        "                    self.X_test, self.Y_test)\n",
        "                print('\\nEvaluation epoch[{}] metrics[{:.2f}, {:.2f}] {}'.format(\n",
        "                    epoch, loss, acc, retinopathy_model.metrics_names))\n",
        "            else:\n",
        "                print('\\nEvaluation epoch[{}] (no checkpoints found)'.format(epoch))\n",
        "\n",
        "\n",
        "def run():\n",
        "    tf.keras.backend.clear_session()\n",
        "    #local dir to write checkpoints and export model\n",
        "    job_dir = 'jobdir'\n",
        "    #Batch size for training steps\n",
        "    train_batch_size = 40\n",
        "    #Maximum number of epochs on which to train\n",
        "    num_epochs = 20\n",
        "    #Checkpoint per n training epochs\n",
        "    checkpoint_epochs = 5\n",
        "    #Perform one evaluation per n epochs\n",
        "    eval_frequency = 5\n",
        "\n",
        "    retinopathy_model = model_fn(CLASS_SIZE)\n",
        "\n",
        "    try:\n",
        "        os.makedirs(job_dir)\n",
        "    except:\n",
        "        pass\n",
        "\n",
        "    # Unhappy hack to work around h5py not being able to write to GCS.\n",
        "    # Force snapshots and saves to local filesystem, then copy them over to GCS.\n",
        "    checkpoint_path = FILE_PATH\n",
        "    checkpoint_path = os.path.join(job_dir, checkpoint_path)\n",
        "\n",
        "    # Model checkpoint callback\n",
        "    checkpoint = keras.callbacks.ModelCheckpoint(\n",
        "        checkpoint_path,\n",
        "        monitor='val_loss',\n",
        "        verbose=2,\n",
        "        period=checkpoint_epochs,\n",
        "        mode='max')\n",
        "\n",
        "    # Continuous eval callback\n",
        "    evaluation = ContinuousEval(eval_frequency,\n",
        "                                job_dir)\n",
        "\n",
        "    # Tensorboard logs callback\n",
        "    tblog = keras.callbacks.TensorBoard(\n",
        "        log_dir=os.path.join(job_dir, 'logs'),\n",
        "        histogram_freq=0,\n",
        "        write_graph=True,\n",
        "        embeddings_freq=0)\n",
        "\n",
        "    callbacks = [checkpoint, evaluation, tblog]\n",
        "\n",
        "    [X_train, Y_train] = read_train_data()\n",
        "\n",
        "    datagen = ImageDataGenerator(\n",
        "        shear_range=0.1,\n",
        "        zoom_range=0.1,\n",
        "        horizontal_flip=True)\n",
        "\n",
        "    retinopathy_model.fit_generator(\n",
        "        datagen.flow(X_train, Y_train, batch_size=train_batch_size),\n",
        "        steps_per_epoch=100,\n",
        "        epochs=num_epochs,\n",
        "        callbacks=callbacks,\n",
        "        verbose=2,\n",
        "        validation_data=(evaluation.X_test, evaluation.Y_test))\n",
        "\n",
        "    retinopathy_model.save(os.path.join(job_dir, RETINOPATHY_MODEL))\n",
        "\n"
      ],
      "execution_count": 0,
      "outputs": []
    },
    {
      "cell_type": "code",
      "metadata": {
        "colab_type": "code",
        "id": "gGsDgLD_GY7l",
        "outputId": "ba332910-f5e6-440f-f8a6-cf0f93a95c62",
        "colab": {
          "base_uri": "https://localhost:8080/",
          "height": 1000
        }
      },
      "source": [
        "#from google.colab import drive\n",
        "#drive.mount('/content/drive') ## If you want to read from your drive - this is not required, as you can get the files as below, but it might faster\n",
        "\n",
        "## this will download the data from the internet, it may fail if the server is not up\n",
        "![ -f testDataSmall.npz ] || wget -O testDataSmall.npz \"https://www.win.tue.nl/~cdecampos/testDataSmall.npz\"\n",
        "![ -f trainDataSmall.npz ] || wget -O trainDataSmall.npz \"https://www.win.tue.nl/~cdecampos/trainDataSmall.npz\"\n",
        "!rm -fr jobdir/\n",
        "\n",
        "run()\n",
        "\n",
        "\n",
        "#drive.flush_and_unmount() ## if you need to unmount your google drive"
      ],
      "execution_count": 3,
      "outputs": [
        {
          "output_type": "stream",
          "text": [
            "--2019-12-09 23:21:48--  https://www.win.tue.nl/~cdecampos/testDataSmall.npz\n",
            "Resolving www.win.tue.nl (www.win.tue.nl)... 131.155.11.13\n",
            "Connecting to www.win.tue.nl (www.win.tue.nl)|131.155.11.13|:443... connected.\n",
            "HTTP request sent, awaiting response... 200 OK\n",
            "Length: 101034899 (96M) [text/plain]\n",
            "Saving to: ‘testDataSmall.npz’\n",
            "\n",
            "\rtestDataSmall.npz     0%[                    ]       0  --.-KB/s               \rtestDataSmall.npz     2%[                    ]   2.41M  11.7MB/s               \rtestDataSmall.npz    12%[=>                  ]  12.48M  30.7MB/s               \rtestDataSmall.npz    38%[======>             ]  37.45M  61.7MB/s               \rtestDataSmall.npz    86%[================>   ]  83.00M   103MB/s               \rtestDataSmall.npz   100%[===================>]  96.35M   114MB/s    in 0.8s    \n",
            "\n",
            "2019-12-09 23:21:49 (114 MB/s) - ‘testDataSmall.npz’ saved [101034899/101034899]\n",
            "\n",
            "--2019-12-09 23:21:51--  https://www.win.tue.nl/~cdecampos/trainDataSmall.npz\n",
            "Resolving www.win.tue.nl (www.win.tue.nl)... 131.155.11.13\n",
            "Connecting to www.win.tue.nl (www.win.tue.nl)|131.155.11.13|:443... connected.\n",
            "HTTP request sent, awaiting response... 200 OK\n",
            "Length: 203493642 (194M) [text/plain]\n",
            "Saving to: ‘trainDataSmall.npz’\n",
            "\n",
            "trainDataSmall.npz  100%[===================>] 194.07M  91.6MB/s    in 2.1s    \n",
            "\n",
            "2019-12-09 23:21:53 (91.6 MB/s) - ‘trainDataSmall.npz’ saved [203493642/203493642]\n",
            "\n",
            "WARNING:tensorflow:From /usr/local/lib/python3.6/dist-packages/keras/backend/tensorflow_backend.py:66: The name tf.get_default_graph is deprecated. Please use tf.compat.v1.get_default_graph instead.\n",
            "\n",
            "WARNING:tensorflow:From /usr/local/lib/python3.6/dist-packages/keras/backend/tensorflow_backend.py:541: The name tf.placeholder is deprecated. Please use tf.compat.v1.placeholder instead.\n",
            "\n",
            "WARNING:tensorflow:From /usr/local/lib/python3.6/dist-packages/keras/backend/tensorflow_backend.py:4432: The name tf.random_uniform is deprecated. Please use tf.random.uniform instead.\n",
            "\n",
            "WARNING:tensorflow:From /usr/local/lib/python3.6/dist-packages/keras/backend/tensorflow_backend.py:148: The name tf.placeholder_with_default is deprecated. Please use tf.compat.v1.placeholder_with_default instead.\n",
            "\n",
            "WARNING:tensorflow:From /usr/local/lib/python3.6/dist-packages/keras/backend/tensorflow_backend.py:3733: calling dropout (from tensorflow.python.ops.nn_ops) with keep_prob is deprecated and will be removed in a future version.\n",
            "Instructions for updating:\n",
            "Please use `rate` instead of `keep_prob`. Rate should be set to `rate = 1 - keep_prob`.\n",
            "WARNING:tensorflow:From /usr/local/lib/python3.6/dist-packages/keras/backend/tensorflow_backend.py:4267: The name tf.nn.max_pool is deprecated. Please use tf.nn.max_pool2d instead.\n",
            "\n",
            "WARNING:tensorflow:From /usr/local/lib/python3.6/dist-packages/keras/optimizers.py:793: The name tf.train.Optimizer is deprecated. Please use tf.compat.v1.train.Optimizer instead.\n",
            "\n",
            "WARNING:tensorflow:From /usr/local/lib/python3.6/dist-packages/keras/backend/tensorflow_backend.py:3576: The name tf.log is deprecated. Please use tf.math.log instead.\n",
            "\n",
            "Start Read Test Data\n",
            "Test data read --- 0.00836634635925293 seconds ---\n",
            "Testing - Total examples per class [500. 500. 500. 500. 500.]\n",
            "Start Read Train Data\n",
            "Train data read --- 0.0006115436553955078 seconds ---\n",
            "Training - Total examples per class [1000. 1000. 1000. 1000. 1000.]\n",
            "WARNING:tensorflow:From /usr/local/lib/python3.6/dist-packages/tensorflow_core/python/ops/math_grad.py:1424: where (from tensorflow.python.ops.array_ops) is deprecated and will be removed in a future version.\n",
            "Instructions for updating:\n",
            "Use tf.where in 2.0, which has the same broadcast rule as np.where\n",
            "WARNING:tensorflow:From /usr/local/lib/python3.6/dist-packages/keras/backend/tensorflow_backend.py:1033: The name tf.assign_add is deprecated. Please use tf.compat.v1.assign_add instead.\n",
            "\n",
            "WARNING:tensorflow:From /usr/local/lib/python3.6/dist-packages/keras/backend/tensorflow_backend.py:1020: The name tf.assign is deprecated. Please use tf.compat.v1.assign instead.\n",
            "\n",
            "WARNING:tensorflow:From /usr/local/lib/python3.6/dist-packages/keras/backend/tensorflow_backend.py:3005: The name tf.Session is deprecated. Please use tf.compat.v1.Session instead.\n",
            "\n",
            "WARNING:tensorflow:From /usr/local/lib/python3.6/dist-packages/keras/backend/tensorflow_backend.py:190: The name tf.get_default_session is deprecated. Please use tf.compat.v1.get_default_session instead.\n",
            "\n",
            "WARNING:tensorflow:From /usr/local/lib/python3.6/dist-packages/keras/backend/tensorflow_backend.py:197: The name tf.ConfigProto is deprecated. Please use tf.compat.v1.ConfigProto instead.\n",
            "\n",
            "WARNING:tensorflow:From /usr/local/lib/python3.6/dist-packages/keras/backend/tensorflow_backend.py:207: The name tf.global_variables is deprecated. Please use tf.compat.v1.global_variables instead.\n",
            "\n",
            "WARNING:tensorflow:From /usr/local/lib/python3.6/dist-packages/keras/backend/tensorflow_backend.py:216: The name tf.is_variable_initialized is deprecated. Please use tf.compat.v1.is_variable_initialized instead.\n",
            "\n",
            "WARNING:tensorflow:From /usr/local/lib/python3.6/dist-packages/keras/backend/tensorflow_backend.py:223: The name tf.variables_initializer is deprecated. Please use tf.compat.v1.variables_initializer instead.\n",
            "\n",
            "WARNING:tensorflow:From /usr/local/lib/python3.6/dist-packages/keras/callbacks.py:1122: The name tf.summary.merge_all is deprecated. Please use tf.compat.v1.summary.merge_all instead.\n",
            "\n",
            "WARNING:tensorflow:From /usr/local/lib/python3.6/dist-packages/keras/callbacks.py:1125: The name tf.summary.FileWriter is deprecated. Please use tf.compat.v1.summary.FileWriter instead.\n",
            "\n",
            "Epoch 1/20\n",
            " - 24s - loss: 12.7134 - acc: 0.2023 - val_loss: 12.8945 - val_acc: 0.2000\n",
            "WARNING:tensorflow:From /usr/local/lib/python3.6/dist-packages/keras/callbacks.py:1265: The name tf.Summary is deprecated. Please use tf.compat.v1.Summary instead.\n",
            "\n",
            "Epoch 2/20\n",
            " - 20s - loss: 13.0597 - acc: 0.1898 - val_loss: 12.8945 - val_acc: 0.2000\n",
            "Epoch 3/20\n",
            " - 20s - loss: 12.8622 - acc: 0.2020 - val_loss: 12.8945 - val_acc: 0.2000\n",
            "Epoch 4/20\n",
            " - 20s - loss: 8.9566 - acc: 0.1958 - val_loss: 1.6083 - val_acc: 0.1976\n",
            "Epoch 5/20\n",
            " - 19s - loss: 1.6084 - acc: 0.2170 - val_loss: 1.6054 - val_acc: 0.2368\n",
            "\n",
            "Epoch 00005: saving model to jobdir/checkpoint.05.hdf5\n",
            "Epoch 6/20\n",
            "2500/2500 [==============================] - 3s 1ms/step\n",
            "\n",
            "Evaluation epoch[5] metrics[1.61, 0.24] ['loss', 'acc']\n",
            " - 24s - loss: 1.6017 - acc: 0.2303 - val_loss: 2.3794 - val_acc: 0.2004\n",
            "Epoch 7/20\n",
            " - 20s - loss: 1.6393 - acc: 0.2360 - val_loss: 1.5992 - val_acc: 0.2332\n",
            "Epoch 8/20\n",
            " - 20s - loss: 1.5947 - acc: 0.2518 - val_loss: 1.5982 - val_acc: 0.2200\n",
            "Epoch 9/20\n",
            " - 20s - loss: 1.5901 - acc: 0.2538 - val_loss: 1.5943 - val_acc: 0.2244\n",
            "Epoch 10/20\n",
            " - 20s - loss: 1.5817 - acc: 0.2618 - val_loss: 1.5959 - val_acc: 0.2352\n",
            "\n",
            "Epoch 00010: saving model to jobdir/checkpoint.10.hdf5\n",
            "Epoch 11/20\n",
            "2500/2500 [==============================] - 3s 1ms/step\n",
            "\n",
            "Evaluation epoch[10] metrics[1.60, 0.24] ['loss', 'acc']\n",
            " - 24s - loss: 1.5850 - acc: 0.2433 - val_loss: 1.5877 - val_acc: 0.2256\n",
            "Epoch 12/20\n",
            " - 20s - loss: 1.5737 - acc: 0.2740 - val_loss: 1.5759 - val_acc: 0.2468\n",
            "Epoch 13/20\n",
            " - 19s - loss: 1.5746 - acc: 0.2650 - val_loss: 1.5787 - val_acc: 0.2468\n",
            "Epoch 14/20\n",
            " - 20s - loss: 1.5641 - acc: 0.2750 - val_loss: 1.5754 - val_acc: 0.2636\n",
            "Epoch 15/20\n",
            " - 20s - loss: 1.5642 - acc: 0.2735 - val_loss: 1.5612 - val_acc: 0.2812\n",
            "\n",
            "Epoch 00015: saving model to jobdir/checkpoint.15.hdf5\n",
            "Epoch 16/20\n",
            "2500/2500 [==============================] - 3s 1ms/step\n",
            "\n",
            "Evaluation epoch[15] metrics[1.56, 0.28] ['loss', 'acc']\n",
            " - 24s - loss: 1.5570 - acc: 0.2840 - val_loss: 1.5608 - val_acc: 0.2860\n",
            "Epoch 17/20\n",
            " - 20s - loss: 1.5466 - acc: 0.2960 - val_loss: 1.5601 - val_acc: 0.2892\n",
            "Epoch 18/20\n",
            " - 20s - loss: 1.5454 - acc: 0.2903 - val_loss: 1.5585 - val_acc: 0.2748\n",
            "Epoch 19/20\n",
            " - 20s - loss: 1.5381 - acc: 0.2963 - val_loss: 1.5495 - val_acc: 0.2844\n",
            "Epoch 20/20\n",
            " - 20s - loss: 1.5372 - acc: 0.2900 - val_loss: 1.5543 - val_acc: 0.2764\n",
            "\n",
            "Epoch 00020: saving model to jobdir/checkpoint.20.hdf5\n"
          ],
          "name": "stdout"
        }
      ]
    },
    {
      "cell_type": "code",
      "metadata": {
        "id": "5eZCX1PbMDcD",
        "colab_type": "code",
        "colab": {}
      },
      "source": [
        "from matplotlib import pyplot as plt\n",
        "from numpy import loadtxt\n",
        "from keras.models import load_model\n",
        "\n",
        "model = load_model('jobdir/retinopathy.hdf5')\n",
        "\n",
        "data = np.load(\"testDataSmall.npz\")\n",
        "X_test = data[\"X_test\"]\n",
        "Y_test = data[\"Y_test\"]\n",
        "\n",
        "yProbTest = model.predict_proba(X_test)\n",
        "yClassTest = model.predict_classes(X_test)\n",
        "\n"
      ],
      "execution_count": 0,
      "outputs": []
    },
    {
      "cell_type": "code",
      "metadata": {
        "id": "l-pokump9su1",
        "colab_type": "code",
        "outputId": "7a634f36-c04a-4c9f-f13e-969a0555b7f0",
        "colab": {
          "base_uri": "https://localhost:8080/",
          "height": 416
        }
      },
      "source": [
        "def convert_act(yInput):\n",
        "  if(yInput == [1, 0, 0, 0, 0]).all():\n",
        "    return 0\n",
        "  elif(yInput == [0, 1, 0, 0, 0]).all():\n",
        "    return 1\n",
        "  elif(yInput == [0, 0, 1, 0, 0]).all():\n",
        "    return 2\n",
        "  elif(yInput == [0, 0, 0, 1, 0]).all():\n",
        "    return 3\n",
        "  elif(yInput == [0, 0, 0, 0, 1]).all():\n",
        "    return 4\n",
        "\n",
        "val = input(\"Enter number of the test case: \") \n",
        "\n",
        "imgToShow = tf.keras.preprocessing.image.array_to_img(\n",
        "    X_test[int(val)],\n",
        "    data_format=None,\n",
        "    scale=True,\n",
        "    dtype=None\n",
        ")\n",
        "\n",
        "fig = plt.figure(figsize=(6,6))\n",
        "ax1 = plt.subplot2grid((15,9), (0,0), colspan=9, rowspan=9)\n",
        "ax2 = plt.subplot2grid((15,9), (9,2), colspan=5, rowspan=5)\n",
        "\n",
        "ax1.axis('off')\n",
        "ax1.set_title(\"X_test[%s]\" % (val))\n",
        "ax1.imshow(imgToShow)\n",
        "    \n",
        "y_pos = np.arange(5)\n",
        "ax2.set_yticks(y_pos)\n",
        "ax2.set_yticklabels([0,1,2,3,4])\n",
        "ax2.set_xlabel('Probability')\n",
        "ax2.invert_yaxis()\n",
        "ax2.barh(y_pos, yProbTest[int(val)], xerr=0, align='center', color='green')\n",
        "\n",
        "print(\"Predicted Class = %s, Actuall Class = %s\" % (yClassTest[int(val)], convert_act(Y_test[int(val)])))\n",
        "plt.show()"
      ],
      "execution_count": 6,
      "outputs": [
        {
          "output_type": "stream",
          "text": [
            "Enter number of the test case: 356\n",
            "Predicted Class = 1, Actuall Class = 0\n"
          ],
          "name": "stdout"
        },
        {
          "output_type": "display_data",
          "data": {
            "image/png": "[encoded data removed]",
            "text/plain": [
              "<Figure size 432x432 with 2 Axes>"
            ]
          },
          "metadata": {
            "tags": []
          }
        }
      ]
    },
    {
      "cell_type": "code",
      "metadata": {
        "id": "Ow-HhHidZjUv",
        "colab_type": "code",
        "outputId": "005b6aee-494d-4634-8889-83bda6d74619",
        "colab": {
          "base_uri": "https://localhost:8080/",
          "height": 34
        }
      },
      "source": [
        "%matplotlib\n",
        "from sklearn.metrics import confusion_matrix\n",
        "import itertools\n",
        "import matplotlib.pyplot as plt\n"
      ],
      "execution_count": 7,
      "outputs": [
        {
          "output_type": "stream",
          "text": [
            "Using matplotlib backend: agg\n"
          ],
          "name": "stdout"
        }
      ]
    },
    {
      "cell_type": "code",
      "metadata": {
        "id": "TqkjVZO6bCDi",
        "colab_type": "code",
        "colab": {}
      },
      "source": [
        "new_Y_test = []\n",
        "\n",
        "for x in range(len(Y_test)):\n",
        "  new_Y_test.append(convert_act(Y_test[x]))"
      ],
      "execution_count": 0,
      "outputs": []
    },
    {
      "cell_type": "code",
      "metadata": {
        "id": "IXzKkTvOZ2Pn",
        "colab_type": "code",
        "colab": {}
      },
      "source": [
        "cm = confusion_matrix(new_Y_test, yClassTest)"
      ],
      "execution_count": 0,
      "outputs": []
    },
    {
      "cell_type": "code",
      "metadata": {
        "id": "B9MkHuwMemhr",
        "colab_type": "code",
        "colab": {}
      },
      "source": [
        "#https://scikit-learn.org/0.18/auto_examples/model_selection/plot_confusion_matrix.html\n",
        "def plot_confusion_matrix(cm, classes,\n",
        "                          normalize=False,\n",
        "                          title='Confusion matrix',\n",
        "                          cmap=plt.cm.Blues):\n",
        "    \"\"\"\n",
        "    This function prints and plots the confusion matrix.\n",
        "    Normalization can be applied by setting `normalize=True`.\n",
        "    \"\"\"\n",
        "    plt.imshow(cm, interpolation='nearest', cmap=cmap)\n",
        "    plt.title(title)\n",
        "    plt.colorbar()\n",
        "    tick_marks = np.arange(len(classes))\n",
        "    plt.xticks(tick_marks, classes, rotation=45)\n",
        "    plt.yticks(tick_marks, classes)\n",
        "\n",
        "    if normalize:\n",
        "        cm = cm.astype('float') / cm.sum(axis=1)[:, np.newaxis]\n",
        "        print(\"Normalized confusion matrix\")\n",
        "    else:\n",
        "        print('Confusion matrix, without normalization')\n",
        "\n",
        "    #print(cm)\n",
        "\n",
        "    thresh = cm.max() / 2.\n",
        "    for i, j in itertools.product(range(cm.shape[0]), range(cm.shape[1])):\n",
        "        plt.text(j, i, cm[i, j],\n",
        "                 horizontalalignment=\"center\",\n",
        "                 color=\"white\" if cm[i, j] > thresh else \"black\")\n",
        "\n",
        "    plt.tight_layout()\n",
        "    plt.ylabel('True label')\n",
        "    plt.xlabel('Predicted label')\n"
      ],
      "execution_count": 0,
      "outputs": []
    },
    {
      "cell_type": "code",
      "metadata": {
        "id": "m_lCnkPwfXXh",
        "colab_type": "code",
        "outputId": "3f954727-77dd-4397-8a61-bfc347e0a8f2",
        "colab": {
          "base_uri": "https://localhost:8080/",
          "height": 328
        }
      },
      "source": [
        "cm_plot_labels = [0, 1, 2, 3, 4]\n",
        "plot_confusion_matrix(cm, cm_plot_labels, title='Confusion Matrix')"
      ],
      "execution_count": 11,
      "outputs": [
        {
          "output_type": "stream",
          "text": [
            "Confusion matrix, without normalization\n"
          ],
          "name": "stdout"
        },
        {
          "output_type": "display_data",
          "data": {
            "image/png": "[encoded data removed]",
            "text/plain": [
              "<Figure size 432x288 with 2 Axes>"
            ]
          },
          "metadata": {
            "tags": []
          }
        }
      ]
    }
  ]
}